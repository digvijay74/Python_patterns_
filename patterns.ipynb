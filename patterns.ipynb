{
 "cells": [
  {
   "cell_type": "code",
   "execution_count": 1,
   "id": "fb5a6fec",
   "metadata": {},
   "outputs": [
    {
     "name": "stdout",
     "output_type": "stream",
     "text": [
      "* \n",
      "* * \n",
      "* * * \n",
      "* * * * \n",
      "* * * * * \n"
     ]
    }
   ],
   "source": [
    "n = 5\n",
    "for i in range(0,n):\n",
    "    for j in range(0,i+1):\n",
    "        print('*',end=' ')\n",
    "    print()"
   ]
  },
  {
   "cell_type": "code",
   "execution_count": 3,
   "id": "d3c98b74",
   "metadata": {},
   "outputs": [
    {
     "name": "stdout",
     "output_type": "stream",
     "text": [
      "    *\n",
      "   **\n",
      "  ***\n",
      " ****\n",
      "*****\n"
     ]
    }
   ],
   "source": [
    "n = 5\n",
    "for i in range(1,n+1):\n",
    "    print(' '* (n-i)+ '*'*i)"
   ]
  },
  {
   "cell_type": "code",
   "execution_count": 6,
   "id": "679828df",
   "metadata": {},
   "outputs": [
    {
     "name": "stdout",
     "output_type": "stream",
     "text": [
      "                                                                                               hihihihihih\n"
     ]
    }
   ],
   "source": [
    "print(' '*95+'hihihihihih')"
   ]
  },
  {
   "cell_type": "code",
   "execution_count": 14,
   "id": "d2961dae",
   "metadata": {},
   "outputs": [
    {
     "name": "stdout",
     "output_type": "stream",
     "text": [
      "* * * * \r\n",
      "* * * * \r\n",
      "* * * * \r\n",
      "* * * * \r\n"
     ]
    }
   ],
   "source": [
    "for i in range(4):\n",
    "    for m in range(4):\n",
    "        print('*',end=' ')\n",
    "    print('\\r')"
   ]
  },
  {
   "cell_type": "code",
   "execution_count": 13,
   "id": "6e548097",
   "metadata": {},
   "outputs": [
    {
     "name": "stdout",
     "output_type": "stream",
     "text": [
      "*\n",
      "****\n",
      "* * * * \n"
     ]
    }
   ],
   "source": [
    "print('*')\n",
    "n = 4\n",
    "print('*'*n)\n",
    "for j in range(n):\n",
    "    print('*',end=' ')\n",
    "print()\n",
    "    "
   ]
  },
  {
   "cell_type": "code",
   "execution_count": 15,
   "id": "5bd907c3",
   "metadata": {},
   "outputs": [
    {
     "name": "stdout",
     "output_type": "stream",
     "text": [
      "$ $ $ $ $ $ \n",
      "$ $ $ $ $ $ \n",
      "$ $ $ $ $ $ \n",
      "$ $ $ $ $ $ \n",
      "$ $ $ $ $ $ \n"
     ]
    }
   ],
   "source": [
    "n = 5\n",
    "for i in range(n):\n",
    "    for j in range(n+1):\n",
    "        print('$',end=' ')\n",
    "    print()"
   ]
  },
  {
   "cell_type": "code",
   "execution_count": 21,
   "id": "127e993e",
   "metadata": {},
   "outputs": [
    {
     "name": "stdout",
     "output_type": "stream",
     "text": [
      "$  \n",
      "$  $  \n",
      "$  $  $  \n",
      "$  $  $  $  \n",
      "$  $  $  $  $  \n"
     ]
    }
   ],
   "source": [
    "n = 5\n",
    "for i in range(n):\n",
    "    for j in range(i+1):\n",
    "        print('$',end='  ')\n",
    "    print()"
   ]
  },
  {
   "cell_type": "code",
   "execution_count": 28,
   "id": "d9e723f1",
   "metadata": {},
   "outputs": [
    {
     "name": "stdout",
     "output_type": "stream",
     "text": [
      "$  $  $  $  $  \n",
      "$  $  $  $  \n",
      "$  $  $  \n",
      "$  $  \n",
      "$  \n"
     ]
    }
   ],
   "source": [
    "n = 5\n",
    "for i in range(n):\n",
    "    for j in range(i,n):\n",
    "        print('$',end='  ')\n",
    "    print()"
   ]
  },
  {
   "cell_type": "code",
   "execution_count": 30,
   "id": "37f52399",
   "metadata": {},
   "outputs": [
    {
     "name": "stdout",
     "output_type": "stream",
     "text": [
      "$  $  $  $  $  \n",
      "$  $  $  $  \n",
      "$  $  $  \n",
      "$  $  \n",
      "$  \n"
     ]
    }
   ],
   "source": [
    "n = 5\n",
    "for i in range(n):\n",
    "    for j in range(n-i):\n",
    "        print('$',end='  ')\n",
    "    print()"
   ]
  },
  {
   "cell_type": "markdown",
   "id": "0f8f9798",
   "metadata": {},
   "source": [
    "#  Right sided Triangle decresing space and increasing stars:"
   ]
  },
  {
   "cell_type": "code",
   "execution_count": 10,
   "id": "72394df3",
   "metadata": {},
   "outputs": [
    {
     "name": "stdout",
     "output_type": "stream",
     "text": [
      "     *\n",
      "    **\n",
      "   ***\n",
      "  ****\n",
      " *****\n"
     ]
    }
   ],
   "source": [
    "n = 5\n",
    "for i in range(n):\n",
    "    for j in range(i,n):\n",
    "        print(' ',end='')\n",
    "    for m in range(i+1):\n",
    "        print('*',end='')\n",
    "    print()\n",
    "        "
   ]
  },
  {
   "cell_type": "markdown",
   "id": "7c7df787",
   "metadata": {},
   "source": [
    "#  Right sided traingle with decresing stars and increasing space:"
   ]
  },
  {
   "cell_type": "code",
   "execution_count": 83,
   "id": "784f8b58",
   "metadata": {},
   "outputs": [
    {
     "name": "stdout",
     "output_type": "stream",
     "text": [
      " $$$$$\n",
      "  $$$$\n",
      "   $$$\n",
      "    $$\n",
      "     $\n"
     ]
    }
   ],
   "source": [
    "n = 5\n",
    "for i in range(n):\n",
    "    for j in range(i+1):\n",
    "        print(' ',end='')\n",
    "    for j in range(n-i):\n",
    "        print('$',end='')\n",
    "    print()"
   ]
  },
  {
   "cell_type": "markdown",
   "id": "2fa1da83",
   "metadata": {},
   "source": [
    "#  Hill patterns: Hill pattern has a 3 triangle which has increasing stars2 traingle and one drecreasing space"
   ]
  },
  {
   "cell_type": "code",
   "execution_count": 56,
   "id": "f57c917e",
   "metadata": {},
   "outputs": [
    {
     "name": "stdout",
     "output_type": "stream",
     "text": [
      "     *\n",
      "    ***\n",
      "   *****\n",
      "  *******\n",
      " *********\n"
     ]
    }
   ],
   "source": [
    "n = 5\n",
    "for i in range(n):\n",
    "    for j in range(i,n):\n",
    "        print('',end=' ')\n",
    "    for j in range(i):\n",
    "        print('*',end='')\n",
    "    for j in range(i+1):\n",
    "        print('*',end='')\n",
    "    print()"
   ]
  },
  {
   "cell_type": "markdown",
   "id": "dc95e0f2",
   "metadata": {},
   "source": [
    "# Reverse hill: icreasing space , 2 traingles with decresing stars:"
   ]
  },
  {
   "cell_type": "code",
   "execution_count": 66,
   "id": "0ea48acf",
   "metadata": {},
   "outputs": [
    {
     "name": "stdout",
     "output_type": "stream",
     "text": [
      " *********\n",
      "  *******\n",
      "   *****\n",
      "    ***\n",
      "     *\n"
     ]
    }
   ],
   "source": [
    "n = 5\n",
    "for i in range(n):\n",
    "    for j in range(i+1):\n",
    "        print(' ',end='')\n",
    "    for j in range(i,n-1):\n",
    "        print('*',end='')\n",
    "    for j in range(i,n):\n",
    "        print('*',end='')\n",
    "    print()"
   ]
  },
  {
   "cell_type": "markdown",
   "id": "0f12e45a",
   "metadata": {},
   "source": [
    "#  Diamond patterns:"
   ]
  },
  {
   "cell_type": "code",
   "execution_count": 80,
   "id": "6fd4be7d",
   "metadata": {},
   "outputs": [
    {
     "name": "stdout",
     "output_type": "stream",
     "text": [
      "     *\n",
      "    ***\n",
      "   *****\n",
      "  *******\n",
      " *********\n",
      "  *******\n",
      "   *****\n",
      "    ***\n",
      "     *\n"
     ]
    }
   ],
   "source": [
    "n = 5\n",
    "for i in range(n-1):\n",
    "    for j in range(i,n):\n",
    "        print('',end=' ')\n",
    "    for j in range(i):\n",
    "        print('*',end='')\n",
    "    for j in range(i+1):\n",
    "        print('*',end='')\n",
    "    print()\n",
    "n = 5\n",
    "for i in range(n):\n",
    "    for j in range(i+1):\n",
    "        print(' ',end='')\n",
    "    for j in range(i,n-1):\n",
    "        print('*',end='')\n",
    "    for j in range(i,n):\n",
    "        print('*',end='')\n",
    "    print()"
   ]
  },
  {
   "cell_type": "markdown",
   "id": "2bd7560c",
   "metadata": {},
   "source": [
    "# creating a number pattern increasing stars: \n"
   ]
  },
  {
   "cell_type": "code",
   "execution_count": 90,
   "id": "d1cf391b",
   "metadata": {},
   "outputs": [
    {
     "name": "stdout",
     "output_type": "stream",
     "text": [
      "1 \n",
      "1 1 \n",
      "1 1 1 \n",
      "1 1 1 1 \n",
      "1 1 1 1 1 \n"
     ]
    }
   ],
   "source": [
    "## while solving a number pattern we will focus on creating first pattern and then adding numers:\n",
    "n = 5 \n",
    "for  i in range(n):\n",
    "    for j in range(i+1):\n",
    "        print(1,end=' ')\n",
    "    print()"
   ]
  },
  {
   "cell_type": "code",
   "execution_count": 97,
   "id": "f6378eb4",
   "metadata": {},
   "outputs": [
    {
     "name": "stdout",
     "output_type": "stream",
     "text": [
      "1 \n",
      "2 2 \n",
      "3 3 3 \n",
      "4 4 4 4 \n",
      "5 5 5 5 5 \n"
     ]
    }
   ],
   "source": [
    "n = 5\n",
    "p = 1\n",
    "for i in range(n):\n",
    "    for j in range(i+1):\n",
    "        print(p,end=' ')\n",
    "    p = p+1\n",
    "    print()"
   ]
  },
  {
   "cell_type": "code",
   "execution_count": 102,
   "id": "f20ca84f",
   "metadata": {},
   "outputs": [
    {
     "name": "stdout",
     "output_type": "stream",
     "text": [
      "5 \n",
      "4 4 \n",
      "3 3 3 \n",
      "2 2 2 2 \n",
      "1 1 1 1 1 \n"
     ]
    }
   ],
   "source": [
    "n = 5\n",
    "p = 5\n",
    "for i in range(n):\n",
    "    for j in range(i+1):\n",
    "        print(p,end=' ')\n",
    "    p = p-1\n",
    "    print()"
   ]
  },
  {
   "cell_type": "code",
   "execution_count": 103,
   "id": "30136560",
   "metadata": {},
   "outputs": [
    {
     "name": "stdout",
     "output_type": "stream",
     "text": [
      "11111\n",
      "2222\n",
      "333\n",
      "44\n",
      "5\n"
     ]
    }
   ],
   "source": [
    "n = 5\n",
    "p = 1\n",
    "for  i in range(n):\n",
    "    for j in range(n-i):\n",
    "        print(p,end='')\n",
    "    p=p+1\n",
    "    print()"
   ]
  },
  {
   "cell_type": "code",
   "execution_count": 105,
   "id": "b5c7e1cc",
   "metadata": {},
   "outputs": [
    {
     "name": "stdout",
     "output_type": "stream",
     "text": [
      "0\n",
      "22\n",
      "444\n",
      "6666\n",
      "88888\n"
     ]
    }
   ],
   "source": [
    "n = 5\n",
    "p=0\n",
    "for i in range(n):\n",
    "    for j in range(i+1):\n",
    "        print(p,end='')\n",
    "    p=p+2\n",
    "    print()"
   ]
  },
  {
   "cell_type": "code",
   "execution_count": 110,
   "id": "9b46146e",
   "metadata": {},
   "outputs": [
    {
     "name": "stdout",
     "output_type": "stream",
     "text": [
      "1\n",
      "22\n",
      "111\n",
      "2222\n",
      "11111\n"
     ]
    }
   ],
   "source": [
    "n = 5\n",
    "for i in range(n):\n",
    "    for j in range(i+1):\n",
    "        if i%2==0:\n",
    "            print(1,end='')\n",
    "        else:\n",
    "            print(2,end='')\n",
    "        \n",
    "    print()"
   ]
  },
  {
   "cell_type": "code",
   "execution_count": 113,
   "id": "42592790",
   "metadata": {},
   "outputs": [
    {
     "name": "stdout",
     "output_type": "stream",
     "text": [
      "     1\n",
      "    222\n",
      "   33333\n",
      "  4444444\n",
      " 555555555\n",
      "  6666666\n",
      "   77777\n",
      "    888\n",
      "     9\n"
     ]
    }
   ],
   "source": [
    "n = 5\n",
    "p = 1\n",
    "for i in range(n-1):\n",
    "    for j in range(i,n):\n",
    "        print('',end=' ')\n",
    "    for j in range(i):\n",
    "        print(p,end='')\n",
    "    for j in range(i+1):\n",
    "        print(p,end='')\n",
    "    p = p+1\n",
    "    print()\n",
    "n = 5\n",
    "p=5\n",
    "for i in range(n):\n",
    "    for j in range(i+1):\n",
    "        print(' ',end='')\n",
    "    for j in range(i,n-1):\n",
    "        print(p,end='')\n",
    "    for j in range(i,n):\n",
    "        print(p,end='')\n",
    "    p = p + 1\n",
    "    print()"
   ]
  },
  {
   "cell_type": "code",
   "execution_count": 114,
   "id": "564275e4",
   "metadata": {},
   "outputs": [
    {
     "name": "stdout",
     "output_type": "stream",
     "text": [
      "     1\n",
      "    222\n",
      "   33333\n",
      "  4444444\n",
      " 555555555\n",
      "  4444444\n",
      "   33333\n",
      "    222\n",
      "     1\n"
     ]
    }
   ],
   "source": [
    "n = 5\n",
    "p = 1\n",
    "for i in range(n-1):\n",
    "    for j in range(i,n):\n",
    "        print('',end=' ')\n",
    "    for j in range(i):\n",
    "        print(p,end='')\n",
    "    for j in range(i+1):\n",
    "        print(p,end='')\n",
    "    p = p+1\n",
    "    print()\n",
    "n = 5\n",
    "p=5\n",
    "for i in range(n):\n",
    "    for j in range(i+1):\n",
    "        print(' ',end='')\n",
    "    for j in range(i,n-1):\n",
    "        print(p,end='')\n",
    "    for j in range(i,n):\n",
    "        print(p,end='')\n",
    "    p = p - 1\n",
    "    print()"
   ]
  },
  {
   "cell_type": "code",
   "execution_count": 122,
   "id": "d69c392e",
   "metadata": {},
   "outputs": [
    {
     "name": "stdout",
     "output_type": "stream",
     "text": [
      "1\n",
      "12\n",
      "123\n",
      "1234\n",
      "12345\n"
     ]
    }
   ],
   "source": [
    "n = 5 \n",
    "for i in range(n):\n",
    "    p=1\n",
    "    for j in range(i+1):\n",
    "        print(p,end='')\n",
    "        p = p+1\n",
    "    print()"
   ]
  },
  {
   "cell_type": "code",
   "execution_count": 126,
   "id": "67f5eaf5",
   "metadata": {},
   "outputs": [
    {
     "name": "stdout",
     "output_type": "stream",
     "text": [
      " 12345\n",
      "  1234\n",
      "   123\n",
      "    12\n",
      "     1\n"
     ]
    }
   ],
   "source": [
    "n = 5 \n",
    "for i in range(n):\n",
    "    p=1\n",
    "    for j in range(i+1):\n",
    "        print(' ',end='')\n",
    "    for j in range(n-i):\n",
    "        print(p,end='')\n",
    "        p=p+1\n",
    "    print()"
   ]
  },
  {
   "cell_type": "code",
   "execution_count": 138,
   "id": "2b4aaf10",
   "metadata": {},
   "outputs": [
    {
     "name": "stdout",
     "output_type": "stream",
     "text": [
      "     1\n",
      "    123\n",
      "   12345\n",
      "  1234567\n",
      " 123456789\n"
     ]
    }
   ],
   "source": [
    "n = 5\n",
    "\n",
    "for i in range(n):\n",
    "    p=1\n",
    "    for j in range(i,n):\n",
    "        print('',end=' ')\n",
    "    for j in range(i):\n",
    "        print(p,end='')\n",
    "        p=p+1\n",
    "        \n",
    "    for j in range(i+1):\n",
    "        print(p,end='')\n",
    "        p=p+1\n",
    "    print()"
   ]
  },
  {
   "cell_type": "code",
   "execution_count": 145,
   "id": "3e010632",
   "metadata": {},
   "outputs": [
    {
     "name": "stdout",
     "output_type": "stream",
     "text": [
      "5\n",
      "54\n",
      "543\n",
      "5432\n",
      "54321\n"
     ]
    }
   ],
   "source": [
    "n = 5\n",
    "\n",
    "for i in range(n):\n",
    "    p = 5\n",
    "    for j in range(i+1):\n",
    "        print(p,end='')\n",
    "        p=p-1\n",
    "    print()"
   ]
  },
  {
   "cell_type": "code",
   "execution_count": 1,
   "id": "08b276ec",
   "metadata": {},
   "outputs": [
    {
     "name": "stdout",
     "output_type": "stream",
     "text": [
      "* * * * * \n",
      "* * * * * \n",
      "* * * * * \n",
      "* * * * * \n",
      "* * * * * \n"
     ]
    }
   ],
   "source": [
    "n = 5\n",
    "for i in range(n):\n",
    "    for j in range(n):\n",
    "        print('*',end = ' ')\n",
    "    print()\n",
    "    "
   ]
  },
  {
   "cell_type": "markdown",
   "id": "21f2b8bd",
   "metadata": {},
   "source": [
    "#  Making the shapes of characters using aschi:\n",
    "# A-Z : 65 to 90   capital\n",
    "# a-z : 97 to 122    small\n",
    "# 0-9 : 48 to 57"
   ]
  },
  {
   "cell_type": "code",
   "execution_count": 2,
   "id": "5e6c15ec",
   "metadata": {},
   "outputs": [
    {
     "name": "stdout",
     "output_type": "stream",
     "text": [
      "A\n"
     ]
    }
   ],
   "source": [
    "print(chr(65))"
   ]
  },
  {
   "cell_type": "code",
   "execution_count": 4,
   "id": "44a7b7a5",
   "metadata": {},
   "outputs": [
    {
     "name": "stdout",
     "output_type": "stream",
     "text": [
      "A \n",
      "A A \n",
      "A A A \n",
      "A A A A \n",
      "A A A A A \n"
     ]
    }
   ],
   "source": [
    "n = 5\n",
    "for i in range(n):\n",
    "    for j in range(i+1):\n",
    "        print(chr(65),end=' ')\n",
    "    print()"
   ]
  },
  {
   "cell_type": "code",
   "execution_count": 7,
   "id": "fb91ee29",
   "metadata": {},
   "outputs": [
    {
     "name": "stdout",
     "output_type": "stream",
     "text": [
      "A \n",
      "B B \n",
      "C C C \n",
      "D D D D \n",
      "E E E E E \n"
     ]
    }
   ],
   "source": [
    "n = 5\n",
    "p=65\n",
    "for i in range(n):\n",
    "    for j in range(i+1):\n",
    "        print(chr(p),end=' ')\n",
    "    p=p+1\n",
    "    print()"
   ]
  },
  {
   "cell_type": "code",
   "execution_count": 10,
   "id": "fd21c43e",
   "metadata": {},
   "outputs": [
    {
     "name": "stdout",
     "output_type": "stream",
     "text": [
      "E \n",
      "D D \n",
      "C C C \n",
      "B B B B \n",
      "A A A A A \n"
     ]
    }
   ],
   "source": [
    "n = 5\n",
    "p=69\n",
    "for i in range(n):\n",
    "    for j in range(i+1):\n",
    "        print(chr(p),end=' ')\n",
    "    p=p-1\n",
    "    print()"
   ]
  },
  {
   "cell_type": "code",
   "execution_count": 12,
   "id": "449efd8c",
   "metadata": {},
   "outputs": [
    {
     "name": "stdout",
     "output_type": "stream",
     "text": [
      "A \n",
      "C C \n",
      "E E E \n",
      "G G G G \n",
      "I I I I I \n"
     ]
    }
   ],
   "source": [
    "n = 5\n",
    "p=65\n",
    "for i in range(n):\n",
    "    for j in range(i+1):\n",
    "        print(chr(p),end=' ')\n",
    "    p=p+2\n",
    "    print()"
   ]
  },
  {
   "cell_type": "code",
   "execution_count": 15,
   "id": "35d3bbcf",
   "metadata": {},
   "outputs": [
    {
     "name": "stdout",
     "output_type": "stream",
     "text": [
      "A \n",
      "B B \n",
      "A A A \n",
      "B B B B \n",
      "A A A A A \n"
     ]
    }
   ],
   "source": [
    "n = 5\n",
    "\n",
    "for i in range(n):\n",
    "    for j in range(i+1):\n",
    "        if i%2==0:\n",
    "            print(chr(65),end=' ')\n",
    "        else:\n",
    "            print(chr(66),end=' ')\n",
    "    print()\n",
    "            \n",
    "      "
   ]
  },
  {
   "cell_type": "code",
   "execution_count": 25,
   "id": "ce198033",
   "metadata": {},
   "outputs": [
    {
     "name": "stdout",
     "output_type": "stream",
     "text": [
      " ZZZZZ\n",
      "  OOOO\n",
      "   ZZZ\n",
      "    OO\n",
      "     Z\n"
     ]
    }
   ],
   "source": [
    "n = 5\n",
    "for i in range(n):\n",
    "    for j in range(i+1):\n",
    "        print(' ',end='')\n",
    "        \n",
    "    for j in range(n-i):\n",
    "        if i%2==0:\n",
    "            print(chr(90),end='')\n",
    "        else:\n",
    "            print(chr(79),end='')\n",
    "        \n",
    "    print()"
   ]
  },
  {
   "cell_type": "code",
   "execution_count": 15,
   "id": "49cf6dc4",
   "metadata": {},
   "outputs": [
    {
     "name": "stdout",
     "output_type": "stream",
     "text": [
      "     A\n",
      "    BBB\n",
      "   CCCCC\n",
      "  DDDDDDD\n",
      " AAAAAAAAA\n",
      "  BBBBBBB\n",
      "   CCCCC\n",
      "    DDD\n",
      "     E\n"
     ]
    }
   ],
   "source": [
    "n = 5\n",
    "p = 65\n",
    "for i in range(n-1):\n",
    "    for j in range(i,n):\n",
    "        print('',end=' ')\n",
    "    for j in range(i):\n",
    "        print(chr(p),end='')\n",
    "    for j in range(i+1):\n",
    "        print(chr(p),end='')\n",
    "    p = p +1\n",
    "    print()\n",
    "n = 5\n",
    "p=65\n",
    "for i in range(n):\n",
    "    for j in range(i+1):\n",
    "        print(' ',end='')\n",
    "    for j in range(i,n-1):\n",
    "        print(chr(p),end='')\n",
    "    for j in range(i,n):\n",
    "        print(chr(p),end='')\n",
    "    p=p+1\n",
    "    print()"
   ]
  },
  {
   "cell_type": "code",
   "execution_count": 12,
   "id": "06060873",
   "metadata": {},
   "outputs": [
    {
     "name": "stdout",
     "output_type": "stream",
     "text": [
      "     A\n",
      "    BBB\n",
      "   CCCCC\n",
      "  DDDDDDD\n",
      " AAAAAAAAA\n",
      "  BBBBBBB\n",
      "   CCCCC\n",
      "    DDD\n",
      "     E\n"
     ]
    }
   ],
   "source": [
    "n = 5\n",
    "p = 65\n",
    "for i in range(n-1):\n",
    "    for j in range(i,n):\n",
    "        print('',end=' ')\n",
    "    for j in range(i):\n",
    "        print(chr(p),end='')\n",
    "    for j in range(i+1):\n",
    "        print(chr(p),end='')\n",
    "    p = p+1\n",
    "    print()\n",
    "n = 5\n",
    "p=65\n",
    "for i in range(n):\n",
    "    for j in range(i+1):\n",
    "        print(' ',end='')\n",
    "    for j in range(i,n-1):\n",
    "        print(chr(p),end='')\n",
    "    for j in range(i,n):\n",
    "        print(chr(p),end='')\n",
    "    p = p + 1\n",
    "    print()"
   ]
  },
  {
   "cell_type": "code",
   "execution_count": 17,
   "id": "054ac032",
   "metadata": {},
   "outputs": [
    {
     "name": "stdout",
     "output_type": "stream",
     "text": [
      "     A\n",
      "    BBB\n",
      "   CCCCC\n",
      "  DDDDDDD\n",
      " EEEEEEEEE\n",
      "  DDDDDDD\n",
      "   CCCCC\n",
      "    BBB\n",
      "     A\n"
     ]
    }
   ],
   "source": [
    "n = 5\n",
    "p = 65\n",
    "for i in range(n-1):\n",
    "    for j in range(i,n):\n",
    "        print('',end=' ')\n",
    "    for j in range(i):\n",
    "        print(chr(p),end='')\n",
    "    for j in range(i+1):\n",
    "        print(chr(p),end='')\n",
    "    p = p+1\n",
    "    print()\n",
    "n = 5\n",
    "p=69\n",
    "for i in range(n):\n",
    "    for j in range(i+1):\n",
    "        print(' ',end='')\n",
    "    for j in range(i,n-1):\n",
    "        print(chr(p),end='')\n",
    "    for j in range(i,n):\n",
    "        print(chr(p),end='')\n",
    "    p = p - 1\n",
    "    print()"
   ]
  },
  {
   "cell_type": "code",
   "execution_count": 22,
   "id": "f23a91b1",
   "metadata": {},
   "outputs": [
    {
     "name": "stdout",
     "output_type": "stream",
     "text": [
      "A\n",
      "AB\n",
      "ABC\n",
      "ABCD\n",
      "ABCDE\n"
     ]
    }
   ],
   "source": [
    "n = 5\n",
    "\n",
    "for i in range(n):\n",
    "    p = 65\n",
    "    for j in range(i+1):\n",
    "        print(chr(p),end='')\n",
    "        p=p+1\n",
    "    print()"
   ]
  },
  {
   "cell_type": "code",
   "execution_count": 26,
   "id": "c18f81eb",
   "metadata": {},
   "outputs": [
    {
     "name": "stdout",
     "output_type": "stream",
     "text": [
      "c\n",
      "co\n",
      "cod\n",
      "code\n",
      "coder\n"
     ]
    }
   ],
   "source": [
    "\n",
    "s = 'coder'\n",
    "n = len(s)\n",
    "for i in range(n):\n",
    "    for j in range(i+1):\n",
    "        print(s[j],end='')\n",
    "    print()"
   ]
  },
  {
   "cell_type": "code",
   "execution_count": 27,
   "id": "4b2c6b28",
   "metadata": {},
   "outputs": [
    {
     "name": "stdout",
     "output_type": "stream",
     "text": [
      "c\n",
      "oo\n",
      "ddd\n",
      "eeee\n",
      "rrrrr\n"
     ]
    }
   ],
   "source": [
    "\n",
    "s = 'coder'\n",
    "n = len(s)\n",
    "for i in range(n):\n",
    "    for j in range(i+1):\n",
    "        print(s[i],end='')\n",
    "    print()"
   ]
  },
  {
   "cell_type": "code",
   "execution_count": 29,
   "id": "adbf136e",
   "metadata": {},
   "outputs": [
    {
     "name": "stdout",
     "output_type": "stream",
     "text": [
      "c\n",
      "oo\n",
      "ddd\n",
      "eeee\n",
      "rrrrr\n"
     ]
    }
   ],
   "source": [
    "\n",
    "s = 'coder'\n",
    "n = len(s)\n",
    "p=0\n",
    "for i in range(n):\n",
    "    for j in range(i+1):\n",
    "        print(s[p],end='')\n",
    "    p=p+1\n",
    "    print()"
   ]
  },
  {
   "cell_type": "code",
   "execution_count": 31,
   "id": "4d549f74",
   "metadata": {},
   "outputs": [
    {
     "name": "stdout",
     "output_type": "stream",
     "text": [
      "rrrrr\n",
      "eeee\n",
      "ddd\n",
      "oo\n",
      "c\n"
     ]
    }
   ],
   "source": [
    "s = 'coder'\n",
    "n = len(s)\n",
    "p=4\n",
    "for i in range(n):\n",
    "    for j in range(n-i):\n",
    "        print(s[p],end='')\n",
    "    p=p-1\n",
    "    print()\n",
    "        "
   ]
  },
  {
   "cell_type": "code",
   "execution_count": 36,
   "id": "bab94896",
   "metadata": {},
   "outputs": [
    {
     "name": "stdout",
     "output_type": "stream",
     "text": [
      "r\n",
      "re\n",
      "red\n",
      "redo\n",
      "redoc\n"
     ]
    }
   ],
   "source": [
    "s = 'coder'\n",
    "n = len(s)\n",
    "\n",
    "for i in range(n):\n",
    "    p=4\n",
    "    for j in range(i+1):\n",
    "        print(s[p],end='')\n",
    "        p=p-1\n",
    "    print()"
   ]
  },
  {
   "cell_type": "code",
   "execution_count": 13,
   "id": "0d14e8fa",
   "metadata": {},
   "outputs": [
    {
     "name": "stdout",
     "output_type": "stream",
     "text": [
      "*****\n",
      "*   *\n",
      "*   *\n",
      "*****\n",
      "*   *\n",
      "*   *\n",
      "*   *\n"
     ]
    }
   ],
   "source": [
    "n = 7\n",
    "for i in range(n):\n",
    "    for j in range(5):\n",
    "        if ((j == 0 or j== 4) and i!=0) or ((i==0 or i==3) and (j>0 or j<4)):\n",
    "            print('*',end='')\n",
    "        else:\n",
    "            print(end=' ')\n",
    "    print()\n",
    "            \n",
    "           \n",
    "            \n",
    "            "
   ]
  },
  {
   "cell_type": "code",
   "execution_count": 17,
   "id": "e2579498",
   "metadata": {},
   "outputs": [
    {
     "name": "stdout",
     "output_type": "stream",
     "text": [
      "*****\n",
      "*   *\n",
      "*   *\n",
      "*****\n",
      "*   *\n",
      "*   *\n",
      "*****\n"
     ]
    }
   ],
   "source": [
    "n = 7\n",
    "for i in range(n):\n",
    "    for j in range(5):\n",
    "        if (i==0 or i==3 or i==6) or (j==0 or j==4):\n",
    "            print('*',end='')\n",
    "        else:\n",
    "            print(end=' ')\n",
    "    print()"
   ]
  },
  {
   "cell_type": "code",
   "execution_count": 2,
   "id": "b493730c",
   "metadata": {},
   "outputs": [
    {
     "name": "stdout",
     "output_type": "stream",
     "text": [
      "*****\n",
      "*\n",
      "*\n",
      "*\n",
      "*\n",
      "*\n",
      "*****\n"
     ]
    }
   ],
   "source": [
    "n = 7\n",
    "for i in range(n):\n",
    "    for j in range(5):\n",
    "        if j==0 or ((i==0 or i==6) and (j>0)):\n",
    "            print('*',end='')\n",
    "        else:\n",
    "            print('',end='')\n",
    "    print()"
   ]
  },
  {
   "cell_type": "code",
   "execution_count": null,
   "id": "60ea4297",
   "metadata": {},
   "outputs": [],
   "source": []
  }
 ],
 "metadata": {
  "kernelspec": {
   "display_name": "Python 3 (ipykernel)",
   "language": "python",
   "name": "python3"
  },
  "language_info": {
   "codemirror_mode": {
    "name": "ipython",
    "version": 3
   },
   "file_extension": ".py",
   "mimetype": "text/x-python",
   "name": "python",
   "nbconvert_exporter": "python",
   "pygments_lexer": "ipython3",
   "version": "3.9.12"
  }
 },
 "nbformat": 4,
 "nbformat_minor": 5
}
